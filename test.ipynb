{
 "cells": [
  {
   "cell_type": "markdown",
   "id": "653d45ad",
   "metadata": {},
   "source": [
    "\n",
    "El usuario toma una foto de una planta (ej. hiedra venenosa), se usa un LLM multimodal para identificarla y devuelve una advertencia de \"Peligro: Causa dermatitis\".\n",
    "\n",
    "**¿A quiénes ayuda?**\n",
    "\n",
    "Al público general: Es una herramienta esencial para excursionistas, familias con niños, dueños de mascotas y jardineros que quieran explorar con confianza y evitar peligros.\n",
    "\n",
    "A profesionales: Sirve como un potente apoyo para médicos de urgencias, dermatólogos, centros de toxicología y veterinarios, ayudándoles a confirmar rápidamente la causa de una intoxicación o reacción alérgica para aplicar el tratamiento correcto.\n",
    "\n",
    "**Elección Recomendada: API de Gemini (en Google AI Studio)**\n",
    "\n",
    "La API de Gemini (gestionada a través de Google AI Studio) es la elección por las siguientes razones:\n",
    "\n",
    "**Velocidad de Prototipado y Simplicidad:**  Con Google AI Studio, pueden obtener una clave API en minutos y comenzar a hacer llamadas al modelo multimodal (como Gemini Pro Vision) de inmediato. No necesitan configurar un proyecto completo de Google Cloud, gestionar permisos de IAM (Identidad y Acceso) ni entender conceptos de MLOps. Vertex AI, por el contrario, es una plataforma completa que requiere configuración de proyecto, habilitación de APIs, y una curva de aprendizaje mayor, lo cual retrasaría el desarrollo del prototipo.\n",
    "\n",
    "**Costo (Presupuesto Cero):** El presupuesto es el factor decisivo. La API de Gemini ofrece una generosa capa gratuita, ideal para una startup en fase de prototipo. Pueden construir, probar y realizar docenas de demostraciones a inversores sin incurrir en costos. Vertex AI está diseñado para producción y escala empresarial; aunque tiene una capa gratuita, sus costos están asociados a la infraestructura de GCP y están pensados para aplicaciones que ya generan ingresos o tienen financiación.\n",
    "\n",
    "**Naturaleza de los Datos (No Sensibles):** En esta etapa, la startup maneja datos (fotos de plantas) que no son confidenciales ni están regulados. Por lo tanto, las robustas garantías de seguridad empresarial, gobernanza de datos y cumplimiento (como HIPAA) que ofrece Vertex AI (que garantiza que los datos del cliente no se usan para entrenar modelos públicos) son innecesarias y excesivas (overkill) para este MVP. El equipo puede operar perfectamente bajo los términos de servicio estánda\n"
   ]
  },
  {
   "cell_type": "markdown",
   "id": "49cc3d97",
   "metadata": {},
   "source": [
    "#### Actividad 3"
   ]
  },
  {
   "cell_type": "code",
   "execution_count": null,
   "id": "bfc65bea",
   "metadata": {},
   "outputs": [
    {
     "name": "stdout",
     "output_type": "stream",
     "text": [
      "La **hiedra venenosa** (conocida científicamente como *Toxicodendron radicans* en Norteamérica y *Toxicodendron orientale* en Asia, aunque el término se usa ampliamente para varias especies del género *Toxicodendron*) es una planta que se encuentra comúnmente en América del Norte y partes de Asia.\n",
      "\n",
      "Es famosa por causar una **reacción alérgica cutánea** en la mayoría de las personas que entran en contacto con ella.\n",
      "\n",
      "Aquí están los puntos clave para entender qué es la hiedra venenosa:\n",
      "\n",
      "1.  **La Planta:**\n",
      "    *   **Apariencia:** Es más conocida por la frase \"hojas de tres, tenla en el pie\" (o \"hojas de tres, no la toques\"). Sus hojas suelen crecer en grupos de tres. Pueden ser brillantes o mates, y su color varía de verde claro a oscuro, volviéndose rojizas en otoño.\n",
      "    *   **Formas de crecimiento:** Puede presentarse como una **planta rastrera** (cubriendo el suelo), un **arbusto** o una **enredadera** que trepa por árboles, postes o muros. Esto la hace difícil de identificar, ya que no siempre tiene la misma forma.\n",
      "    *   **Frutos:** Produce pequeñas bayas blanquecinas o cerosas en otoño e invierno.\n",
      "    *   **Partes venenosas:** Todas las partes de la planta (hojas, tallos, raíces, frutos) contienen la sustancia irritante, incluso cuando la planta está muerta o seca.\n",
      "\n",
      "2.  **El Agente Causal: Urushiol**\n",
      "    *   La sustancia que provoca la reacción alérgica es un aceite resinoso llamado **urushiol**.\n",
      "    *   El urushiol es incoloro e inodoro, y se encuentra dentro de la savia de la planta.\n",
      "    *   Es muy potente y solo una pequeña cantidad es suficiente para causar una reacción.\n",
      "    *   Puede permanecer activo en superficies (ropa, herramientas, mascotas) durante mucho tiempo, a veces años.\n",
      "\n",
      "3.  **La Reacción Alérgica (Dermatitis de Contacto por Urushiol):**\n",
      "    *   **Mecanismo:** Cuando el urushiol entra en contacto con la piel, el sistema inmunológico de las personas sensibles lo reconoce como un invasor, desencadenando una respuesta alérgica.\n",
      "    *   **Síntomas:**\n",
      "        *   **Picazón intensa** (prurito).\n",
      "        *   **Enrojecimiento** e **hinchazón** de la piel.\n",
      "        *   **Ampollas** o vesículas, a menudo llenas de líquido, que pueden romperse y formar costras.\n",
      "        *   La erupción a menudo aparece en **líneas o rayas** donde la planta rozó la piel.\n",
      "    *   **Tiempo de aparición:** La reacción no es inmediata. Generalmente aparece entre 12 y 72 horas después del contacto, dependiendo de la sensibilidad de la persona y la cantidad de urushiol.\n",
      "    *   **Contagio:** Es importante saber que el líquido de las ampollas **NO** es contagioso. La erupción se extiende solo si el urushiol aún no ha sido lavado de la piel y se mueve a otras áreas, o si ha habido contacto con ropa o herramientas contaminadas.\n",
      "    *   **Gravedad:** Varía mucho de persona a persona. Puede ser leve (poca picazón, un poco de enrojecimiento) o muy grave (ampollas grandes y dolorosas que cubren grandes áreas, especialmente si afecta los ojos o las vías respiratorias si se inhala el humo de la planta quemada).\n",
      "\n",
      "4.  **Transmisión:**\n",
      "    *   **Contacto directo:** Tocar la planta directamente.\n",
      "    *   **Contacto indirecto:** Tocar objetos que han estado en contacto con la planta (ropa, herramientas de jardín, mascotas que corrieron por la zona, leña).\n",
      "    *   **Inhalación:** Quemar hiedra venenosa libera el urushiol en el humo, lo que puede causar una reacción alérgica en los pulmones y vías respiratorias, lo cual es muy peligroso.\n",
      "\n",
      "5.  **Prevención y Tratamiento:**\n",
      "    *   **Prevención:** Aprender a identificarla y evitarla. Usar ropa protectora (mangas largas, pantalones, guantes) al trabajar en áreas donde podría crecer. Lavar herramientas y mascotas después de la exposición.\n",
      "    *   **Tratamiento inmediato:** Si crees haber entrado en contacto, lavar la piel a fondo con agua fría y jabón (idealmente jabón desengrasante) tan pronto como sea posible (en los primeros 10-20 minutos) para intentar eliminar el urushiol antes de que se absorba.\n",
      "    *   **Tratamiento de la erupción:** Cremas de venta libre (hidrocortisona, calamina), compresas frías, baños de avena para aliviar la picazón. En casos severos, un médico puede recetar esteroides orales o tópicos más fuertes.\n",
      "\n",
      "En resumen, la hiedra venenosa es una planta que contiene un aceite llamado urushiol, el cual causa una erupción cutánea alérgica muy picazón y con ampollas en la mayoría de las personas que entran en contacto con ella."
     ]
    }
   ],
   "source": [
    "from google import genai #importamos la libreria genai\n",
    "from dotenv import load_dotenv #importamos la libreria dotenv\n",
    "import os #importamos la libreria os\n",
    "load_dotenv() #cargamos las variables de entorno desde el archivo .env\n",
    "API_KEY= os.getenv(\"API_KEY\") #obtenemos la variable de entorno API_KEY\n",
    "#creamos un cliente de genai con la API_KEY\n",
    "client = genai.Client(api_key=API_KEY)\n",
    "#generamos contenido con el modelo gemini-2.5-flash\n",
    "\n",
    "response = client.models.generate_content(\n",
    "model= \"gemini-2.5-flash\",\n",
    "contents=\"¿Qué es la hiedra venenosa?\"\n",
    ")\n",
    "\n",
    "print(response.text)"
   ]
  },
  {
   "cell_type": "markdown",
   "id": "4223e3ab",
   "metadata": {},
   "source": [
    "#### Actividad 4"
   ]
  },
  {
   "cell_type": "code",
   "execution_count": 18,
   "id": "2cc55d6c",
   "metadata": {},
   "outputs": [
    {
     "name": "stdout",
     "output_type": "stream",
     "text": [
      "La **hiedra venenosa** (conocida científicamente principalmente como *Toxicodendron radicans* en Norteamérica y otras especies similares) es una planta famosa por su capacidad de causar una reacción alérgica en la piel de la mayoría de las personas que entran en contacto con ella.\n",
      "\n",
      "Aquí te desglosamos sus características principales:\n",
      "\n",
      "1.  **La causa de la reacción: El Urushiol**\n",
      "    *   La hiedra venenosa produce una sustancia oleosa incolora e inodora llamada **urushiol**.\n",
      "    *   Este aceite se encuentra en todas las partes de la planta: hojas, tallos, raíces e incluso en las bayas.\n",
      "    *   El urushiol es extremadamente potente y una cantidad muy pequeña puede causar una reacción. Permanece activo en objetos (ropa, herramientas, mascotas) durante mucho tiempo si no se limpia.\n",
      "\n",
      "2.  **Identificación (¡muy importante!)**\n",
      "    *   **\"Hojas de tres, déjalas en paz\"**: Esta es la regla de oro. Cada hoja de la hiedra venenosa está compuesta por tres folíolos (pequeñas hojas) separados.\n",
      "    *   **Variación**: La hiedra venenosa puede variar mucho en apariencia:\n",
      "        *   **Color**: De verde brillante en primavera a rojizo/anaranjado en otoño.\n",
      "        *   **Forma**: Los bordes de los folíolos pueden ser lisos, dentados o lobulados.\n",
      "        *   **Hábito de crecimiento**: Puede crecer como una enredadera trepadora (en árboles, cercas), como un arbusto bajo e independiente o como una planta rastrera.\n",
      "        *   **Flores y bayas**: Produce pequeñas flores verdes amarillentas en primavera y bayas pequeñas, redondas y blanquecinas o verdosas en otoño e invierno.\n",
      "\n",
      "3.  **Síntomas de la exposición**\n",
      "    *   La reacción suele aparecer entre unas horas y varios días después del contacto, dependiendo de la sensibilidad de la persona y la cantidad de urushiol.\n",
      "    *   **Picazón intensa**: Es el síntoma más característico.\n",
      "    *   **Enrojecimiento**: De la piel.\n",
      "    *   **Hinchazón**: En la zona afectada.\n",
      "    *   **Ampollas**: Pueden ser pequeñas o grandes, y a menudo supuran un líquido claro.\n",
      "    *   **Costras**: Una vez que las ampollas se secan.\n",
      "    *   La gravedad de la reacción varía mucho de una persona a otra. Algunas personas son muy sensibles, mientras que otras pueden no reaccionar en absoluto.\n",
      "    *   **Importante**: El líquido de las ampollas NO contiene urushiol y NO puede propagar la erupción a otras partes del cuerpo o a otras personas. Sin embargo, el urushiol que aún está en la piel, la ropa o los objetos sí puede hacerlo.\n",
      "\n",
      "4.  **Transmisión**\n",
      "    *   **Contacto directo**: Con la planta.\n",
      "    *   **Contacto indirecto**: Al tocar objetos (ropa, herramientas de jardín, equipos deportivos, piel de mascotas) que han estado en contacto con el urushiol.\n",
      "    *   **Por el aire**: Si la hiedra venenosa se quema, el urushiol se libera en el humo y puede ser inhalado, causando una reacción grave en los pulmones y vías respiratorias, además de en la piel. ¡Nunca quemes hiedra venenosa!\n",
      "\n",
      "5.  **Tratamiento y prevención**\n",
      "    *   **Inmediato**: Si crees que has estado expuesto, lava la zona afectada con abundante agua fría y jabón lo antes posible (idealmente en los primeros 10-20 minutos). Esto puede ayudar a eliminar parte del urushiol antes de que se absorba.\n",
      "    *   **Una vez que aparece la erupción**: Compresas frías, baños de avena, loción de calamina, cremas de hidrocortisona de venta libre o antihistamínicos orales pueden ayudar a aliviar la picazón.\n",
      "    *   **Prevención**: La mejor medida es aprender a identificar la planta y evitar el contacto. Usa ropa protectora (mangas largas, pantalones largos, guantes) si vas a trabajar en áreas donde pueda crecer. Lava la ropa y las herramientas después de usarlas.\n",
      "\n",
      "**¿Cuándo buscar atención médica?**\n",
      "*   Si la erupción es severa o se extiende por una gran parte del cuerpo.\n",
      "*   Si afecta áreas sensibles como los ojos, la boca o los genitales.\n",
      "*   Si hay dificultad para respirar o tragar (especialmente si se sospecha de exposición al humo).\n",
      "*   Si la piel muestra signos de infección (pus, fiebre, enrojecimiento que se extiende).\n",
      "*   Si la picazón es tan intensa que interfiere con el sueño o las actividades diarias.\n",
      "\n",
      "En resumen, la hiedra venenosa es una planta común en muchas regiones que, debido a su aceite urushiol, puede causar una erupción cutánea alérgica muy molesta. La identificación y la prevención son clave para evitar el contacto."
     ]
    }
   ],
   "source": [
    "response = client.models.generate_content_stream(\n",
    "model= \"gemini-2.5-flash\",\n",
    "contents=\"¿Qué es la hiedra venenosa?\"\n",
    ")\n",
    "\n",
    "for chunk in response:\n",
    "    print(chunk.text, end=\"\", flush=True)"
   ]
  },
  {
   "cell_type": "markdown",
   "id": "d26ed5c3",
   "metadata": {},
   "source": [
    "#### Actividad 5"
   ]
  },
  {
   "cell_type": "code",
   "execution_count": 15,
   "id": "13575aae",
   "metadata": {},
   "outputs": [
    {
     "name": "stdout",
     "output_type": "stream",
     "text": [
      "La planta en la imagen parece ser hiedra venenosa.\n",
      "\n",
      "Sí, la hiedra venenosa es peligrosa para los humanos. Contiene un aceite llamado urushiol que puede causar una reacción alérgica en la piel, conocida como dermatitis de contacto por urushiol. Esta reacción puede provocar picazón, enrojecimiento, hinchazón y ampollas."
     ]
    }
   ],
   "source": [
    "from google.genai import types \n",
    "YOUR_IMAGE_PATH = './poison-ivy.webp' \n",
    "YOUR_IMAGE_MIME_TYPE = 'image/webp' \n",
    "with open(YOUR_IMAGE_PATH, 'rb') as f: \n",
    " image_bytes = f.read() \n",
    "for chunk in client.models.generate_content_stream( \n",
    " model='gemini-2.0-flash-001', \n",
    " contents=[ \n",
    " 'Identifica la planta en esta imagen. ¿Es peligrosa para los humanos? ¿Causa alguna reacción alérgica en la piel?', \n",
    " types.Part.from_bytes(data=image_bytes, mime_type=YOUR_IMAGE_MIME_TYPE), \n",
    " ], \n",
    "): \n",
    " print(chunk.text, end='') \n"
   ]
  }
 ],
 "metadata": {
  "kernelspec": {
   "display_name": "Python 3",
   "language": "python",
   "name": "python3"
  },
  "language_info": {
   "codemirror_mode": {
    "name": "ipython",
    "version": 3
   },
   "file_extension": ".py",
   "mimetype": "text/x-python",
   "name": "python",
   "nbconvert_exporter": "python",
   "pygments_lexer": "ipython3",
   "version": "3.12.9"
  }
 },
 "nbformat": 4,
 "nbformat_minor": 5
}
